{
 "cells": [
  {
   "cell_type": "code",
   "execution_count": 16,
   "id": "635c11a1",
   "metadata": {},
   "outputs": [],
   "source": [
    "import nengo\n",
    "import numpy as np\n",
    "import matplotlib.pyplot as plt\n"
   ]
  },
  {
   "cell_type": "code",
   "execution_count": 17,
   "id": "09968419",
   "metadata": {},
   "outputs": [],
   "source": [
    "t_on = 0.5     \n",
    "u = 1.0         \n",
    "T = 5          \n",
    "seed = 1\n",
    "input_high = 10.0\n",
    "n_neurons = 300"
   ]
  },
  {
   "cell_type": "code",
   "execution_count": 18,
   "id": "60e3ae73",
   "metadata": {},
   "outputs": [
    {
     "data": {
      "application/vdom.v1+json": {
       "attributes": {},
       "tagName": "div"
      },
      "text/html": [
       "\n",
       "                <script>\n",
       "                    if (Jupyter.version.split(\".\")[0] < 5) {\n",
       "                        var pb = document.getElementById(\"a2088720-6620-4c69-9b41-dd0ea64883d2\");\n",
       "                        var text = document.createTextNode(\n",
       "                            \"HTML progress bar requires Jupyter Notebook >= \" +\n",
       "                            \"5.0 or Jupyter Lab. Alternatively, you can use \" +\n",
       "                            \"TerminalProgressBar().\");\n",
       "                        pb.parentNode.insertBefore(text, pb);\n",
       "                    }\n",
       "                </script>\n",
       "                <div id=\"a2088720-6620-4c69-9b41-dd0ea64883d2\" style=\"\n",
       "                    width: 100%;\n",
       "                    border: 1px solid #cfcfcf;\n",
       "                    border-radius: 4px;\n",
       "                    text-align: center;\n",
       "                    position: relative;\">\n",
       "                  <div class=\"pb-text\" style=\"\n",
       "                      position: absolute;\n",
       "                      width: 100%;\">\n",
       "                    0%\n",
       "                  </div>\n",
       "                  <div class=\"pb-fill\" style=\"\n",
       "                      background-color: #bdd2e6;\n",
       "                      width: 0%;\">\n",
       "                    <style type=\"text/css\" scoped=\"scoped\">\n",
       "                        @keyframes pb-fill-anim {\n",
       "                            0% { background-position: 0 0; }\n",
       "                            100% { background-position: 100px 0; }\n",
       "                        }\n",
       "                    </style>\n",
       "                    &nbsp;\n",
       "                  </div>\n",
       "                </div>"
      ],
      "text/plain": [
       "HtmlProgressBar cannot be displayed. Please use the TerminalProgressBar. It can be enabled with `nengo.rc['progress']['progress_bar'] = 'nengo.utils.progress.TerminalProgressBar'`."
      ]
     },
     "metadata": {},
     "output_type": "display_data"
    },
    {
     "data": {
      "application/vdom.v1+json": {
       "attributes": {
        "id": "b1dae47b-4c66-47fb-a01b-7037b54d2910",
        "style": {
         "border": "1px solid #cfcfcf",
         "borderRadius": "4px",
         "boxSizing": "border-box",
         "position": "relative",
         "textAlign": "center",
         "width": "100%"
        }
       },
       "children": [
        {
         "attributes": {
          "class": "pb-text",
          "style": {
           "position": "absolute",
           "width": "100%"
          }
         },
         "children": [
          "Build finished in 0:00:01."
         ],
         "tagName": "div"
        },
        {
         "attributes": {
          "class": "pb-fill",
          "style": {
           "animation": "none",
           "backgroundColor": "#bdd2e6",
           "backgroundImage": "none",
           "backgroundSize": "100px 100%",
           "width": "100%"
          }
         },
         "children": [
          {
           "attributes": {
            "scoped": "scoped",
            "type": "text/css"
           },
           "children": [
            "\n                        @keyframes pb-fill-anim {\n                            0% { background-position: 0 0; }\n                            100% { background-position: 100px 0; }\n                        }}"
           ],
           "tagName": "style"
          },
          " "
         ],
         "tagName": "div"
        }
       ],
       "tagName": "div"
      },
      "text/html": [
       "<script>\n",
       "              (function () {\n",
       "                  var root = document.getElementById('a2088720-6620-4c69-9b41-dd0ea64883d2');\n",
       "                  var text = root.getElementsByClassName('pb-text')[0];\n",
       "                  var fill = root.getElementsByClassName('pb-fill')[0];\n",
       "\n",
       "                  text.innerHTML = 'Build finished in 0:00:01.';\n",
       "                  \n",
       "            fill.style.width = '100%';\n",
       "            fill.style.animation = 'pb-fill-anim 2s linear infinite';\n",
       "            fill.style.backgroundSize = '100px 100%';\n",
       "            fill.style.backgroundImage = 'repeating-linear-gradient(' +\n",
       "                '90deg, #bdd2e6, #edf2f8 40%, #bdd2e6 80%, #bdd2e6)';\n",
       "        \n",
       "                  \n",
       "                fill.style.animation = 'none';\n",
       "                fill.style.backgroundImage = 'none';\n",
       "            \n",
       "              })();\n",
       "        </script>"
      ]
     },
     "metadata": {},
     "output_type": "display_data"
    },
    {
     "data": {
      "application/vdom.v1+json": {
       "attributes": {},
       "tagName": "div"
      },
      "text/html": [
       "\n",
       "                <script>\n",
       "                    if (Jupyter.version.split(\".\")[0] < 5) {\n",
       "                        var pb = document.getElementById(\"0df77888-364e-4b2b-a8b0-0887d231beeb\");\n",
       "                        var text = document.createTextNode(\n",
       "                            \"HTML progress bar requires Jupyter Notebook >= \" +\n",
       "                            \"5.0 or Jupyter Lab. Alternatively, you can use \" +\n",
       "                            \"TerminalProgressBar().\");\n",
       "                        pb.parentNode.insertBefore(text, pb);\n",
       "                    }\n",
       "                </script>\n",
       "                <div id=\"0df77888-364e-4b2b-a8b0-0887d231beeb\" style=\"\n",
       "                    width: 100%;\n",
       "                    border: 1px solid #cfcfcf;\n",
       "                    border-radius: 4px;\n",
       "                    text-align: center;\n",
       "                    position: relative;\">\n",
       "                  <div class=\"pb-text\" style=\"\n",
       "                      position: absolute;\n",
       "                      width: 100%;\">\n",
       "                    0%\n",
       "                  </div>\n",
       "                  <div class=\"pb-fill\" style=\"\n",
       "                      background-color: #bdd2e6;\n",
       "                      width: 0%;\">\n",
       "                    <style type=\"text/css\" scoped=\"scoped\">\n",
       "                        @keyframes pb-fill-anim {\n",
       "                            0% { background-position: 0 0; }\n",
       "                            100% { background-position: 100px 0; }\n",
       "                        }\n",
       "                    </style>\n",
       "                    &nbsp;\n",
       "                  </div>\n",
       "                </div>"
      ],
      "text/plain": [
       "HtmlProgressBar cannot be displayed. Please use the TerminalProgressBar. It can be enabled with `nengo.rc['progress']['progress_bar'] = 'nengo.utils.progress.TerminalProgressBar'`."
      ]
     },
     "metadata": {},
     "output_type": "display_data"
    },
    {
     "data": {
      "application/vdom.v1+json": {
       "attributes": {
        "id": "faa5e34b-4283-4d70-8bac-d0a303143882",
        "style": {
         "border": "1px solid #cfcfcf",
         "borderRadius": "4px",
         "boxSizing": "border-box",
         "position": "relative",
         "textAlign": "center",
         "width": "100%"
        }
       },
       "children": [
        {
         "attributes": {
          "class": "pb-text",
          "style": {
           "position": "absolute",
           "width": "100%"
          }
         },
         "children": [
          "Simulation finished in 0:00:01."
         ],
         "tagName": "div"
        },
        {
         "attributes": {
          "class": "pb-fill",
          "style": {
           "animation": "none",
           "backgroundColor": "#bdd2e6",
           "backgroundImage": "none",
           "transition": "width 0.1s linear",
           "width": "100%"
          }
         },
         "children": [
          {
           "attributes": {
            "scoped": "scoped",
            "type": "text/css"
           },
           "children": [
            "\n                        @keyframes pb-fill-anim {\n                            0% { background-position: 0 0; }\n                            100% { background-position: 100px 0; }\n                        }}"
           ],
           "tagName": "style"
          },
          " "
         ],
         "tagName": "div"
        }
       ],
       "tagName": "div"
      },
      "text/html": [
       "<script>\n",
       "              (function () {\n",
       "                  var root = document.getElementById('0df77888-364e-4b2b-a8b0-0887d231beeb');\n",
       "                  var text = root.getElementsByClassName('pb-text')[0];\n",
       "                  var fill = root.getElementsByClassName('pb-fill')[0];\n",
       "\n",
       "                  text.innerHTML = 'Simulation finished in 0:00:01.';\n",
       "                  \n",
       "            if (100.0 > 0.) {\n",
       "                fill.style.transition = 'width 0.1s linear';\n",
       "            } else {\n",
       "                fill.style.transition = 'none';\n",
       "            }\n",
       "\n",
       "            fill.style.width = '100.0%';\n",
       "            fill.style.animation = 'none';\n",
       "            fill.style.backgroundImage = 'none'\n",
       "        \n",
       "                  \n",
       "                fill.style.animation = 'none';\n",
       "                fill.style.backgroundImage = 'none';\n",
       "            \n",
       "              })();\n",
       "        </script>"
      ]
     },
     "metadata": {},
     "output_type": "display_data"
    }
   ],
   "source": [
    "with nengo.Network(seed=seed) as model:\n",
    "    steady_stimulus = nengo.Node(lambda t: 0.0 if t < 0.5 else (5.0 if t < 3 else 3.0))\n",
    "    unsteady_stimulus = nengo.Node(nengo.processes.WhiteSignal(period=T, high=input_high, rms=0.25, seed=seed))\n",
    "\n",
    "    nonadapt = nengo.Ensemble(\n",
    "        n_neurons=n_neurons, \n",
    "        dimensions=1,\n",
    "        neuron_type=nengo.LIF(tau_rc=0.02, tau_ref=0.002),\n",
    "        max_rates=nengo.dists.Uniform(30, 60),\n",
    "        intercepts=nengo.dists.Uniform(-0.7, 0.7),\n",
    "    )\n",
    "\n",
    "    adapt = nengo.Ensemble(\n",
    "        n_neurons=n_neurons, \n",
    "        dimensions=1,\n",
    "        neuron_type=nengo.AdaptiveLIF(\n",
    "            tau_rc=0.02, tau_ref=0.002,\n",
    "            tau_n=0.2,   \n",
    "            inc_n=0.1    \n",
    "        ),\n",
    "        max_rates=nengo.dists.Uniform(30, 60),\n",
    "        intercepts=nengo.dists.Uniform(-0.7, 0.7),\n",
    "    )\n",
    "\n",
    "    nengo.Connection(unsteady_stimulus, nonadapt, synapse=None)\n",
    "    nengo.Connection(unsteady_stimulus, adapt, synapse=None)\n",
    "\n",
    "    p_u = nengo.Probe(unsteady_stimulus, synapse=None)\n",
    "    p_non = nengo.Probe(nonadapt.neurons, synapse=None)\n",
    "    p_adp = nengo.Probe(adapt.neurons, synapse=None)\n",
    "\n",
    "with nengo.Simulator(model) as sim:\n",
    "    sim.run(T)\n",
    "\n",
    "t = sim.trange()\n",
    "\n",
    "# fig, axs = plt.subplots(2, 1, figsize=(8, 5), sharex=True)\n",
    "# axs[0].plot(t, sim.data[p_non], lw=2)\n",
    "# axs[0].set_title(\"Non-Adapting Neuron (LIF)\")\n",
    "# axs[0].set_ylabel(\"Firing rate (Hz)\")\n",
    "# axs[0].grid(True, alpha=0.3)\n",
    "\n",
    "# axs[1].plot(t, sim.data[p_adp], lw=2)\n",
    "# axs[1].set_title(\"Adapting Neuron (AdaptiveLIF)\")\n",
    "# axs[1].set_xlabel(\"Time (s)\")\n",
    "# axs[1].set_ylabel(\"Firing rate (Hz)\")\n",
    "# axs[1].grid(True, alpha=0.3)\n",
    "\n",
    "# ax2 = axs[1].twinx()\n",
    "# ax2.plot(t, sim.data[p_u], alpha=0.4, linestyle=\"--\")\n",
    "# ax2.set_ylabel(\"Input\", rotation=270, labelpad=15)\n",
    "\n",
    "# plt.tight_layout()\n",
    "# plt.show()\n"
   ]
  },
  {
   "cell_type": "markdown",
   "id": "dc71f81e",
   "metadata": {},
   "source": [
    "### Stimulus Plot"
   ]
  },
  {
   "cell_type": "code",
   "execution_count": 19,
   "id": "0fdff7e5",
   "metadata": {},
   "outputs": [
    {
     "data": {
      "image/png": "[encoded data removed]",
      "text/plain": [
       "<Figure size 800x300 with 1 Axes>"
      ]
     },
     "metadata": {},
     "output_type": "display_data"
    }
   ],
   "source": [
    "plt.figure(figsize=(8,3))\n",
    "plt.plot(t, sim.data[p_u], color='tab:purple', linewidth=1.5)\n",
    "plt.title('Stimulus input')\n",
    "plt.xlabel('Time (s)')\n",
    "plt.ylabel('Input value')\n",
    "plt.grid(alpha=0.3)\n",
    "plt.tight_layout()\n",
    "plt.show()"
   ]
  },
  {
   "cell_type": "markdown",
   "id": "8fe27eb4",
   "metadata": {},
   "source": []
  },
  {
   "cell_type": "code",
   "execution_count": 21,
   "id": "eae03790",
   "metadata": {},
   "outputs": [
    {
     "name": "stdout",
     "output_type": "stream",
     "text": [
      "---------Approximate Spike Counts---------\n",
      "Non-adapting (LIF):        16886.0 spikes\n",
      "Adapting (AdaptiveLIF):    3466.0 spikes\n",
      "Difference (adapting - non):   -13420.0 spikes\n",
      "Percent change:                -79.47%\n"
     ]
    }
   ],
   "source": [
    "non = sim.data[p_non].ravel()\n",
    "adp = sim.data[p_adp].ravel()\n",
    "\n",
    "spikes_non = non.sum() * sim.dt\n",
    "spikes_adp = adp.sum() * sim.dt\n",
    "\n",
    "pct_change = (spikes_adp - spikes_non) / spikes_non * 100.0\n",
    "\n",
    "print(\"---------Approximate Spike Counts---------\")\n",
    "print(f\"Non-adapting (LIF):        {spikes_non} spikes\")\n",
    "print(f\"Adapting (AdaptiveLIF):    {spikes_adp} spikes\")\n",
    "print(f\"Difference (adapting - non):   {spikes_adp - spikes_non} spikes\")\n",
    "print(f\"Percent change:                {pct_change:.2f}%\")"
   ]
  }
 ],
 "metadata": {
  "kernelspec": {
   "display_name": "Python 3",
   "language": "python",
   "name": "python3"
  },
  "language_info": {
   "codemirror_mode": {
    "name": "ipython",
    "version": 3
   },
   "file_extension": ".py",
   "mimetype": "text/x-python",
   "name": "python",
   "nbconvert_exporter": "python",
   "pygments_lexer": "ipython3",
   "version": "3.10.6"
  }
 },
 "nbformat": 4,
 "nbformat_minor": 5
}
